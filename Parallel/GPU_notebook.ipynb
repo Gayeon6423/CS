{
 "cells": [
  {
   "cell_type": "code",
   "execution_count": 1,
   "metadata": {},
   "outputs": [
    {
     "name": "stdout",
     "output_type": "stream",
     "text": [
      "Tue Apr 30 13:27:26 2024       \n",
      "+-----------------------------------------------------------------------------+\n",
      "| NVIDIA-SMI 440.33.01    Driver Version: 440.33.01    CUDA Version: 10.2     |\n",
      "|-------------------------------+----------------------+----------------------+\n",
      "| GPU  Name        Persistence-M| Bus-Id        Disp.A | Volatile Uncorr. ECC |\n",
      "| Fan  Temp  Perf  Pwr:Usage/Cap|         Memory-Usage | GPU-Util  Compute M. |\n",
      "|===============================+======================+======================|\n",
      "|   0  TITAN Xp            On   | 00000000:05:00.0 Off |                  N/A |\n",
      "| 24%   43C    P8    10W / 250W |      1MiB / 12194MiB |      0%      Default |\n",
      "+-------------------------------+----------------------+----------------------+\n",
      "|   1  TITAN Xp            On   | 00000000:06:00.0 Off |                  N/A |\n",
      "| 23%   41C    P8    10W / 250W |      1MiB / 12196MiB |      0%      Default |\n",
      "+-------------------------------+----------------------+----------------------+\n",
      "|   2  TITAN Xp            On   | 00000000:09:00.0 Off |                  N/A |\n",
      "| 23%   39C    P8    10W / 250W |      1MiB / 12196MiB |      0%      Default |\n",
      "+-------------------------------+----------------------+----------------------+\n",
      "|   3  TITAN Xp            On   | 00000000:0A:00.0 Off |                  N/A |\n",
      "| 23%   34C    P8     9W / 250W |      1MiB / 12196MiB |      0%      Default |\n",
      "+-------------------------------+----------------------+----------------------+\n",
      "                                                                               \n",
      "+-----------------------------------------------------------------------------+\n",
      "| Processes:                                                       GPU Memory |\n",
      "|  GPU       PID   Type   Process name                             Usage      |\n",
      "|=============================================================================|\n",
      "|  No running processes found                                                 |\n",
      "+-----------------------------------------------------------------------------+\n"
     ]
    }
   ],
   "source": [
    "!nvidia-smi"
   ]
  },
  {
   "cell_type": "markdown",
   "metadata": {},
   "source": [
    "### Single GPU"
   ]
  },
  {
   "cell_type": "markdown",
   "metadata": {},
   "source": [
    "- Single GPU_Setting"
   ]
  },
  {
   "cell_type": "code",
   "execution_count": 2,
   "metadata": {},
   "outputs": [
    {
     "name": "stdout",
     "output_type": "stream",
     "text": [
      "Device: cuda:2\n",
      "Count of using GPUs: 4\n",
      "Current cuda device: 2\n",
      "TITAN Xp\n",
      "Memory Usage:\n",
      "Allocated: 0.0 GB\n",
      "Cached:    0.0 GB\n"
     ]
    },
    {
     "name": "stderr",
     "output_type": "stream",
     "text": [
      "/home/gayeon42/.local/lib/python3.9/site-packages/torch/cuda/memory.py:391: FutureWarning: torch.cuda.memory_cached has been renamed to torch.cuda.memory_reserved\n",
      "  warnings.warn(\n"
     ]
    }
   ],
   "source": [
    "import torch\n",
    "\n",
    "# Change GPU allocatiojn\n",
    "GPU_NUM = 2 # Choose GPU num\n",
    "device = torch.device(f'cuda:{GPU_NUM}' if torch.cuda.is_available() else 'cpu')\n",
    "torch.cuda.set_device(device) # change allocation of cuurent GPU\n",
    "print('Device:', device)  \n",
    "print('Count of using GPUs:', torch.cuda.device_count())  \n",
    "print('Current cuda device:', torch.cuda.current_device()) \n",
    "\n",
    "# Additional Infos\n",
    "if device.type == 'cuda':\n",
    "    print(torch.cuda.get_device_name(GPU_NUM))\n",
    "    print('Memory Usage:')\n",
    "    print('Allocated:', round(torch.cuda.memory_allocated(GPU_NUM)/1024**3,1), 'GB')\n",
    "    print('Cached:   ', round(torch.cuda.memory_cached(GPU_NUM)/1024**3,1), 'GB')"
   ]
  },
  {
   "cell_type": "code",
   "execution_count": 3,
   "metadata": {},
   "outputs": [
    {
     "name": "stdout",
     "output_type": "stream",
     "text": [
      "Device: cuda\n",
      "Count of using GPUs: 4\n",
      "Current cuda device: 2\n"
     ]
    }
   ],
   "source": [
    "import os\n",
    "import torch\n",
    "\n",
    "os.environ[\"CUDA_DEVICE_ORDER\"]=\"PCI_BUS_ID\"\n",
    "os.environ[\"CUDA_VISIBLE_DEVICES\"]= \"1\"\n",
    "\n",
    "device = torch.device(\"cuda\" if torch.cuda.is_available() else \"cpu\")\n",
    "print('Device:', device)  # 출력결과: cuda \n",
    "print('Count of using GPUs:', torch.cuda.device_count())   #출력결과: 1 (GPU #1 한개 사용하므로)\n",
    "print('Current cuda device:', torch.cuda.current_device())  # 출력결과: 0 (GPU #1 의미)"
   ]
  },
  {
   "cell_type": "markdown",
   "metadata": {},
   "source": [
    "- Single GPU_Test"
   ]
  },
  {
   "cell_type": "code",
   "execution_count": 4,
   "metadata": {},
   "outputs": [
    {
     "name": "stdout",
     "output_type": "stream",
     "text": [
      "Epoch [100/1000], Loss: 0.6921\n",
      "Epoch [200/1000], Loss: 0.6591\n",
      "Epoch [300/1000], Loss: 0.3674\n",
      "Epoch [400/1000], Loss: 0.1743\n",
      "Epoch [500/1000], Loss: 0.0921\n",
      "Epoch [600/1000], Loss: 0.0491\n",
      "Epoch [700/1000], Loss: 0.0296\n",
      "Epoch [800/1000], Loss: 0.0201\n",
      "Epoch [900/1000], Loss: 0.0147\n",
      "Epoch [1000/1000], Loss: 0.0114\n",
      "예측 결과:\n",
      "[[0.]\n",
      " [1.]\n",
      " [1.]\n",
      " [0.]]\n"
     ]
    }
   ],
   "source": [
    "import torch\n",
    "import torch.nn as nn\n",
    "import torch.optim as optim\n",
    "import numpy as np\n",
    "\n",
    "# GPU를 사용할 수 있는지 확인하고 사용 가능하다면 사용\n",
    "device = torch.device(\"cuda\" if torch.cuda.is_available() else \"cpu\")\n",
    "\n",
    "# 임의의 데이터 생성\n",
    "X = torch.tensor([[0, 0], [0, 1], [1, 0], [1, 1]], dtype=torch.float32).to(device)\n",
    "y = torch.tensor([[0], [1], [1], [0]], dtype=torch.float32).to(device)\n",
    "\n",
    "# 다층 퍼셉트론(MLP) 모델 정의\n",
    "class MLP(nn.Module):\n",
    "    def __init__(self):\n",
    "        super(MLP, self).__init__()\n",
    "        self.fc1 = nn.Linear(2, 4)  # 입력층에서 은닉층으로의 연결\n",
    "        self.fc2 = nn.Linear(4, 1)  # 은닉층에서 출력층으로의 연결\n",
    "        self.activation = nn.Sigmoid()  # 활성화 함수: 시그모이드\n",
    "\n",
    "    def forward(self, x):\n",
    "        x = self.activation(self.fc1(x))  # 은닉층\n",
    "        x = self.activation(self.fc2(x))  # 출력층\n",
    "        return x\n",
    "\n",
    "# 모델 초기화 및 GPU로 이동\n",
    "model = MLP().to(device)\n",
    "\n",
    "# 손실 함수 및 옵티마이저 정의\n",
    "criterion = nn.BCELoss()  # 이진 분류를 위한 교차 엔트로피 손실 함수\n",
    "optimizer = optim.Adam(model.parameters(), lr=0.01)\n",
    "\n",
    "# 모델 학습\n",
    "num_epochs = 1000\n",
    "for epoch in range(num_epochs):\n",
    "    # Forward pass\n",
    "    outputs = model(X)\n",
    "    loss = criterion(outputs, y)\n",
    "    \n",
    "    # Backward pass 및 옵티마이저 업데이트\n",
    "    optimizer.zero_grad()\n",
    "    loss.backward()\n",
    "    optimizer.step()\n",
    "    \n",
    "    if (epoch+1) % 100 == 0:\n",
    "        print(f'Epoch [{epoch+1}/{num_epochs}], Loss: {loss.item():.4f}')\n",
    "\n",
    "# 학습된 모델 테스트\n",
    "with torch.no_grad():\n",
    "    test_data = torch.tensor([[0, 0], [0, 1], [1, 0], [1, 1]], dtype=torch.float32).to(device)\n",
    "    predictions = model(test_data)\n",
    "    predictions = np.round(predictions.cpu().numpy())  # 예측 결과 반올림\n",
    "    print(\"예측 결과:\")\n",
    "    print(predictions)"
   ]
  },
  {
   "cell_type": "markdown",
   "metadata": {},
   "source": [
    "### Multi GPU\n",
    "- Multi GPU Training : 여러 개의 GPU를 사용하여 딥러닝 모델을 학습하는 방법"
   ]
  },
  {
   "cell_type": "markdown",
   "metadata": {},
   "source": [
    "- Multi GPU_Setting"
   ]
  },
  {
   "cell_type": "code",
   "execution_count": 1,
   "metadata": {},
   "outputs": [
    {
     "name": "stdout",
     "output_type": "stream",
     "text": [
      "Device: cuda\n",
      "Count of using GPUs: 2\n",
      "Current cuda device: 0\n"
     ]
    }
   ],
   "source": [
    "import os\n",
    "import torch\n",
    "\n",
    "os.environ[\"CUDA_DEVICE_ORDER\"]=\"PCI_BUS_ID\"\n",
    "os.environ[\"CUDA_VISIBLE_DEVICES\"]= \"1,2\"\n",
    "device = torch.device(\"cuda\" if torch.cuda.is_available() else \"cpu\")\n",
    "\n",
    "print('Device:', device)  # 출력결과: cuda \n",
    "print('Count of using GPUs:', torch.cuda.device_count())   #출력결과: 2 (1,2 두개 사용하므로)\n",
    "print('Current cuda device:', torch.cuda.current_device())  # 출력결과: 0 (1,2 중 앞의 GPU #1 의미)"
   ]
  },
  {
   "cell_type": "markdown",
   "metadata": {},
   "source": [
    "- Multi GPU_Test"
   ]
  },
  {
   "cell_type": "code",
   "execution_count": 3,
   "metadata": {},
   "outputs": [
    {
     "name": "stdout",
     "output_type": "stream",
     "text": [
      "Epoch [100/1000], Loss: 0.6166\n",
      "Epoch [200/1000], Loss: 0.3153\n",
      "Epoch [300/1000], Loss: 0.1664\n",
      "Epoch [400/1000], Loss: 0.1032\n",
      "Epoch [500/1000], Loss: 0.0712\n",
      "Epoch [600/1000], Loss: 0.0526\n",
      "Epoch [700/1000], Loss: 0.0407\n",
      "Epoch [800/1000], Loss: 0.0326\n",
      "Epoch [900/1000], Loss: 0.0268\n",
      "Epoch [1000/1000], Loss: 0.0224\n",
      "예측 결과:\n",
      "[[0.]\n",
      " [1.]\n",
      " [1.]\n",
      " [0.]]\n"
     ]
    }
   ],
   "source": [
    "import torch\n",
    "import torch.nn as nn\n",
    "import torch.optim as optim\n",
    "import numpy as np\n",
    "\n",
    "# GPU를 사용할 수 있는지 확인하고 사용 가능하다면 사용\n",
    "device = torch.device(\"cuda\" if torch.cuda.is_available() else \"cpu\")\n",
    "\n",
    "# 임의의 데이터 생성\n",
    "X = torch.tensor([[0, 0], [0, 1], [1, 0], [1, 1]], dtype=torch.float32).to(device)\n",
    "y = torch.tensor([[0], [1], [1], [0]], dtype=torch.float32).to(device)\n",
    "\n",
    "# 다층 퍼셉트론(MLP) 모델 정의\n",
    "class MLP(nn.Module):\n",
    "    def __init__(self):\n",
    "        super(MLP, self).__init__()\n",
    "        self.fc1 = nn.Linear(2, 4)  # 입력층에서 은닉층으로의 연결\n",
    "        self.fc2 = nn.Linear(4, 1)  # 은닉층에서 출력층으로의 연결\n",
    "        self.activation = nn.Sigmoid()  # 활성화 함수: 시그모이드\n",
    "\n",
    "    def forward(self, x):\n",
    "        x = self.activation(self.fc1(x))  # 은닉층\n",
    "        x = self.activation(self.fc2(x))  # 출력층\n",
    "        return x\n",
    "\n",
    "# 모델 초기화 및 GPU로 이동\n",
    "model = MLP().to(device)\n",
    "\n",
    "# 손실 함수 및 옵티마이저 정의\n",
    "criterion = nn.BCELoss()  # 이진 분류를 위한 교차 엔트로피 손실 함수\n",
    "optimizer = optim.Adam(model.parameters(), lr=0.01)\n",
    "\n",
    "# 모델 학습\n",
    "num_epochs = 1000\n",
    "for epoch in range(num_epochs):\n",
    "    # Forward pass\n",
    "    outputs = model(X)\n",
    "    loss = criterion(outputs, y)\n",
    "    \n",
    "    # Backward pass 및 옵티마이저 업데이트\n",
    "    optimizer.zero_grad()\n",
    "    loss.backward()\n",
    "    optimizer.step()\n",
    "    \n",
    "    if (epoch+1) % 100 == 0:\n",
    "        print(f'Epoch [{epoch+1}/{num_epochs}], Loss: {loss.item():.4f}')\n",
    "\n",
    "# 학습된 모델 테스트\n",
    "with torch.no_grad():\n",
    "    test_data = torch.tensor([[0, 0], [0, 1], [1, 0], [1, 1]], dtype=torch.float32).to(device)\n",
    "    predictions = model(test_data)\n",
    "    predictions = np.round(predictions.cpu().numpy())  # 예측 결과 반올림\n",
    "    print(\"예측 결과:\")\n",
    "    print(predictions)"
   ]
  }
 ],
 "metadata": {
  "kernelspec": {
   "display_name": "base",
   "language": "python",
   "name": "python3"
  },
  "language_info": {
   "codemirror_mode": {
    "name": "ipython",
    "version": 3
   },
   "file_extension": ".py",
   "mimetype": "text/x-python",
   "name": "python",
   "nbconvert_exporter": "python",
   "pygments_lexer": "ipython3",
   "version": "3.9.13"
  }
 },
 "nbformat": 4,
 "nbformat_minor": 2
}
